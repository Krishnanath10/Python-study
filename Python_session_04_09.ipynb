{
  "nbformat": 4,
  "nbformat_minor": 0,
  "metadata": {
    "colab": {
      "provenance": []
    },
    "kernelspec": {
      "name": "python3",
      "display_name": "Python 3"
    },
    "language_info": {
      "name": "python"
    }
  },
  "cells": [
    {
      "cell_type": "code",
      "execution_count": null,
      "metadata": {
        "colab": {
          "base_uri": "https://localhost:8080/"
        },
        "id": "womk2tQ59_S5",
        "outputId": "aa910f48-e0a6-4ab4-fc45-801f09a23a18"
      },
      "outputs": [
        {
          "output_type": "stream",
          "name": "stdout",
          "text": [
            "Hello World\n"
          ]
        }
      ],
      "source": [
        "x = 'Hello World'\n",
        "print(x)"
      ]
    },
    {
      "cell_type": "code",
      "source": [
        "# Loop control\n",
        "#1. Loop variable initialization\n",
        "#2. condition for termination\n",
        "#3. Updation of loop variable\n",
        "\n",
        "#in Python we have 2 type loops\n",
        "#1. For Loop \n",
        "#2. While Loop\n",
        "\n",
        "#1. While Loop\n",
        "\n",
        "Syntax : while (condition):\n",
        "           statement 1\n",
        "\t\t       statement 2\n",
        "\t\t       .\n",
        "\t\t       .\n",
        "\t\t       .\n",
        "\t\t       statement n\n",
        "\t\t     statement X"
      ],
      "metadata": {
        "id": "ulTq6w63KlzU"
      },
      "execution_count": null,
      "outputs": []
    },
    {
      "cell_type": "code",
      "source": [
        "#Example: Factorial\n",
        "\n",
        "number = 6 #Loop Variable\n",
        "result = 1\n",
        "\n",
        "while number > 0:  # condition for termination\n",
        "  result = result * number\n",
        "  number = number - 1 # updation\n",
        "\n",
        "print(result)"
      ],
      "metadata": {
        "colab": {
          "base_uri": "https://localhost:8080/"
        },
        "id": "MmVzqHZTMby_",
        "outputId": "f1252bef-13a2-4e18-cc3a-e3427e551bba"
      },
      "execution_count": null,
      "outputs": [
        {
          "output_type": "stream",
          "name": "stdout",
          "text": [
            "720\n"
          ]
        }
      ]
    },
    {
      "cell_type": "code",
      "source": [
        "# find the sumation of 10\n",
        "\n",
        "number = 10\n",
        "result = 0\n",
        "while number > 0:\n",
        "  result = result + number\n",
        "  number = number - 1\n",
        "print(result)"
      ],
      "metadata": {
        "colab": {
          "base_uri": "https://localhost:8080/"
        },
        "id": "e8mYzSYPRDpY",
        "outputId": "3a984476-a6d9-4848-a48f-4e5b489be3fa"
      },
      "execution_count": null,
      "outputs": [
        {
          "output_type": "stream",
          "name": "stdout",
          "text": [
            "55\n"
          ]
        }
      ]
    },
    {
      "cell_type": "code",
      "source": [
        "# find the sumation of 100\n",
        "\n",
        "number = 100\n",
        "result = 0\n",
        "while number > 0:\n",
        "  result = result + number\n",
        "  number = number - 1\n",
        "print(result)"
      ],
      "metadata": {
        "colab": {
          "base_uri": "https://localhost:8080/"
        },
        "id": "Sh8EGKaOSdiX",
        "outputId": "e2b3099e-57a7-4be9-aa54-24485e34fe84"
      },
      "execution_count": null,
      "outputs": [
        {
          "output_type": "stream",
          "name": "stdout",
          "text": [
            "5050\n"
          ]
        }
      ]
    },
    {
      "cell_type": "code",
      "source": [
        " # 2. for loop \n",
        "\n",
        " syntax : for i in sequence:\n",
        "              statement 1\n",
        "              statement 2\n",
        "              statement 3\n",
        "              .\n",
        "              .\n",
        "              satement n\n",
        "          statement x\n",
        "\n",
        "# All the 3 Loop controls (initialization, termination, updation of loop variable) are performed  in the sequence.\n",
        "# Sequence could be any collection (Array, List, Tuple, Dictionary)"
      ],
      "metadata": {
        "id": "gfZsHgXTT2qW"
      },
      "execution_count": null,
      "outputs": []
    },
    {
      "cell_type": "code",
      "source": [
        "for i in [\"apple\", \"Banana\", \"Mango\", \"Cherry\", \"Sapota\"]:\n",
        "  print(i)"
      ],
      "metadata": {
        "colab": {
          "base_uri": "https://localhost:8080/"
        },
        "id": "V_OKHbd_XPFg",
        "outputId": "76cb74e8-d36a-42ff-99a3-4cb0ddc71f2d"
      },
      "execution_count": null,
      "outputs": [
        {
          "output_type": "stream",
          "name": "stdout",
          "text": [
            "apple\n",
            "Banana\n",
            "Mango\n",
            "Cherry\n",
            "Sapota\n"
          ]
        }
      ]
    },
    {
      "cell_type": "code",
      "source": [
        "for i in range(5):\n",
        "  print(i)"
      ],
      "metadata": {
        "colab": {
          "base_uri": "https://localhost:8080/"
        },
        "id": "IvkHXokcX5Nd",
        "outputId": "9c948201-9248-45fa-a20a-95f3f7795859"
      },
      "execution_count": null,
      "outputs": [
        {
          "output_type": "stream",
          "name": "stdout",
          "text": [
            "0\n",
            "1\n",
            "2\n",
            "3\n",
            "4\n"
          ]
        }
      ]
    },
    {
      "cell_type": "code",
      "source": [
        "for i in range(1, 50, 5):\n",
        "  print(i)"
      ],
      "metadata": {
        "colab": {
          "base_uri": "https://localhost:8080/"
        },
        "id": "Dlo5T7sIYKvk",
        "outputId": "f02c7533-2639-4cac-fa31-3829fd5dceb3"
      },
      "execution_count": null,
      "outputs": [
        {
          "output_type": "stream",
          "name": "stdout",
          "text": [
            "1\n",
            "6\n",
            "11\n",
            "16\n",
            "21\n",
            "26\n",
            "31\n",
            "36\n",
            "41\n",
            "46\n"
          ]
        }
      ]
    },
    {
      "cell_type": "code",
      "source": [
        "# Example: finding the Factorial\n",
        "\n",
        "result = 1\n",
        "for i in range(1, 7):\n",
        "  result *= i\n",
        "print(result, i)"
      ],
      "metadata": {
        "colab": {
          "base_uri": "https://localhost:8080/"
        },
        "id": "8xEFByuKaBJC",
        "outputId": "38fab9cb-851e-41e5-eb08-10a82419b456"
      },
      "execution_count": null,
      "outputs": [
        {
          "output_type": "stream",
          "name": "stdout",
          "text": [
            "720 6\n"
          ]
        }
      ]
    },
    {
      "cell_type": "code",
      "source": [
        "result = 1\n",
        "for i in range(1, 9):\n",
        "  result += i\n",
        "print(result)"
      ],
      "metadata": {
        "colab": {
          "base_uri": "https://localhost:8080/"
        },
        "id": "v5aaJn6jchf0",
        "outputId": "6b4fdf3f-cc46-451c-e765-fe8ef619d936"
      },
      "execution_count": null,
      "outputs": [
        {
          "output_type": "stream",
          "name": "stdout",
          "text": [
            "37\n"
          ]
        }
      ]
    },
    {
      "cell_type": "code",
      "source": [
        "result = 0\n",
        "for i in range(10,21):\n",
        "  result += i\n",
        "print(result)"
      ],
      "metadata": {
        "colab": {
          "base_uri": "https://localhost:8080/"
        },
        "id": "UNVkPsxscwmR",
        "outputId": "44c1c667-b548-4844-e01a-f4e67de85711"
      },
      "execution_count": null,
      "outputs": [
        {
          "output_type": "stream",
          "name": "stdout",
          "text": [
            "165\n"
          ]
        }
      ]
    },
    {
      "cell_type": "code",
      "source": [
        "start = int(input(\"Enter the first number: \"))\n",
        "stop = int(input(\"Enter the second number: \"))\n",
        "\n",
        "result = 0\n",
        "for i in range(start, stop +1):\n",
        "   result += i\n",
        "print(result)"
      ],
      "metadata": {
        "colab": {
          "base_uri": "https://localhost:8080/"
        },
        "id": "BeWbNat1d4uf",
        "outputId": "8c800499-5e3e-4cf8-f7b7-b4a3fca7bdb4"
      },
      "execution_count": null,
      "outputs": [
        {
          "output_type": "stream",
          "name": "stdout",
          "text": [
            "Enter the first number: 10\n",
            "Enter the second number: 20\n",
            "165\n"
          ]
        }
      ]
    },
    {
      "cell_type": "code",
      "source": [
        "While vs For loop\n",
        "\n",
        "1. while: indefinite and For: definite\n",
        "2. While: \n",
        "\n",
        "Palindrum : when revers the numbers the result will be the same.\n",
        "for example: 121 palindrum will be 121\n",
        "             131 palindrum will be 131"
      ],
      "metadata": {
        "id": "rGxNIZmcjAf-"
      },
      "execution_count": null,
      "outputs": []
    },
    {
      "cell_type": "code",
      "source": [
        "# Break\n",
        "\n",
        "#Break will stop the nearest the loop and it can be used in both For and while.\n",
        "\n",
        "# break will stop the very nearest loop\n",
        "\n"
      ],
      "metadata": {
        "id": "riIhrL_BkasJ"
      },
      "execution_count": null,
      "outputs": []
    },
    {
      "cell_type": "code",
      "source": [
        "number = 6 #Loop Variable\n",
        "result = 1\n",
        "\n",
        "while number > 0:  # condition for termination\n",
        "  result = result * number\n",
        "  number = number - 1 # updation\n",
        "\n",
        "print(result)"
      ],
      "metadata": {
        "id": "Ipw9qNhKmE_2"
      },
      "execution_count": null,
      "outputs": []
    },
    {
      "cell_type": "code",
      "source": [
        "# this is Do While loop\n",
        "\n",
        "number = 6\n",
        "result = 1\n",
        "while True:\n",
        "  result = result * number\n",
        "  number = number - 1\n",
        "  if number == 0:\n",
        "    break\n",
        "print(result)"
      ],
      "metadata": {
        "colab": {
          "base_uri": "https://localhost:8080/"
        },
        "id": "qnpShvYhYyRC",
        "outputId": "b98ffeb5-f2df-48e0-8ff1-9d4bee71e452"
      },
      "execution_count": null,
      "outputs": [
        {
          "output_type": "stream",
          "name": "stdout",
          "text": [
            "720\n"
          ]
        }
      ]
    },
    {
      "cell_type": "code",
      "source": [
        "# continue\n",
        "\n",
        "# whatever the code is written below the CONTINUE, that will be avoided by the Python control.\n",
        "\n",
        "for i in range(1, 11):\n",
        "  if i == 5:\n",
        "    continue\n",
        "  print(i)"
      ],
      "metadata": {
        "colab": {
          "base_uri": "https://localhost:8080/"
        },
        "id": "eJn-m1EOaGtT",
        "outputId": "892c72f1-9818-40d0-c45a-d5b0946496c6"
      },
      "execution_count": null,
      "outputs": [
        {
          "output_type": "stream",
          "name": "stdout",
          "text": [
            "1\n",
            "2\n",
            "3\n",
            "4\n",
            "6\n",
            "7\n",
            "8\n",
            "9\n",
            "10\n"
          ]
        }
      ]
    },
    {
      "cell_type": "code",
      "source": [
        "# zip function\n",
        "# zip is only used when same number of itmes in both list, otherwise it will not working\n",
        "\n",
        "fruits = [\"apple\", \"banana\", \"cherry\", \"Mango\"]\n",
        "price = [40, 20, 25, 50]\n",
        "\n",
        "result = zip(fruits, price)\n",
        "\n",
        "for i in result:\n",
        "  print(i)"
      ],
      "metadata": {
        "colab": {
          "base_uri": "https://localhost:8080/"
        },
        "id": "nR5qBYvubi-k",
        "outputId": "bf0a674f-7c1e-4fd5-b58e-2aaf909d9ef9"
      },
      "execution_count": null,
      "outputs": [
        {
          "output_type": "stream",
          "name": "stdout",
          "text": [
            "('apple', 40)\n",
            "('banana', 20)\n",
            "('cherry', 25)\n",
            "('Mango', 50)\n"
          ]
        }
      ]
    },
    {
      "cell_type": "code",
      "source": [
        "#enumerate function\n",
        "\n",
        "students = [\"Nayak\", \"Ansari\", \"Sanjeet\", \"Mayur\"]\n",
        "\n",
        "result = enumerate(students)\n",
        "\n",
        "for i in result:\n",
        "  print(i)"
      ],
      "metadata": {
        "colab": {
          "base_uri": "https://localhost:8080/"
        },
        "id": "Q8oBa1_xct1j",
        "outputId": "f2b82d2d-c61d-4f27-9a7f-8e752c640e42"
      },
      "execution_count": null,
      "outputs": [
        {
          "output_type": "stream",
          "name": "stdout",
          "text": [
            "(0, 'Nayak')\n",
            "(1, 'Ansari')\n",
            "(2, 'Sanjeet')\n",
            "(3, 'Mayur')\n"
          ]
        }
      ]
    },
    {
      "cell_type": "code",
      "source": [
        "# we can define the start position of indexing through below syntax\n",
        "\n",
        "students = [\"Nayak\", \"Ansari\", \"Sanjeet\", \"Mayur\"]\n",
        "\n",
        "result = enumerate(students, 5)\n",
        "\n",
        "for i in result:\n",
        "  print(i)"
      ],
      "metadata": {
        "colab": {
          "base_uri": "https://localhost:8080/"
        },
        "id": "PUWvscnNd-Wg",
        "outputId": "f9fe8fb3-d8c9-452e-a898-654cc581eb66"
      },
      "execution_count": null,
      "outputs": [
        {
          "output_type": "stream",
          "name": "stdout",
          "text": [
            "(5, 'Nayak')\n",
            "(6, 'Ansari')\n",
            "(7, 'Sanjeet')\n",
            "(8, 'Mayur')\n"
          ]
        }
      ]
    },
    {
      "cell_type": "code",
      "source": [
        "string = \"myprogram.exe\"\n",
        "\n",
        "result = string[9:]\n",
        "print(result)"
      ],
      "metadata": {
        "colab": {
          "base_uri": "https://localhost:8080/"
        },
        "id": "tXQd2IK7ea3t",
        "outputId": "7dab6109-4aa5-40e7-b458-276152f691d6"
      },
      "execution_count": null,
      "outputs": [
        {
          "output_type": "stream",
          "name": "stdout",
          "text": [
            ".exe\n"
          ]
        }
      ]
    },
    {
      "cell_type": "code",
      "source": [
        "string = \"myprogram.exe\"\n",
        "\n",
        "result = string[5:-4]\n",
        "print(result)"
      ],
      "metadata": {
        "colab": {
          "base_uri": "https://localhost:8080/"
        },
        "id": "P4PYcZR6gUa4",
        "outputId": "1ba794db-69cf-4312-8a9f-99c862fee743"
      },
      "execution_count": null,
      "outputs": [
        {
          "output_type": "stream",
          "name": "stdout",
          "text": [
            "gram\n"
          ]
        }
      ]
    },
    {
      "cell_type": "code",
      "source": [
        "# collection - Data Structure - class\n",
        "# collection means collection of more than 1 item\n",
        "# Data structure not only have data value it also have the information on how to travrse from one element to another\n",
        "\n",
        "# 1. String\n",
        "# 2. List\n",
        "# 3. Dictionary\n",
        "# 4. Set\n",
        "# 5. Tuple\n",
        "# above all the data structure are class"
      ],
      "metadata": {
        "id": "aOiIChFMghEA"
      },
      "execution_count": null,
      "outputs": []
    },
    {
      "cell_type": "code",
      "source": [
        "dir(str)"
      ],
      "metadata": {
        "colab": {
          "base_uri": "https://localhost:8080/"
        },
        "id": "Ha6Gc3YgioXY",
        "outputId": "3fe2bb5c-b06d-447c-c4ba-c030c88c5406"
      },
      "execution_count": null,
      "outputs": [
        {
          "output_type": "execute_result",
          "data": {
            "text/plain": [
              "['__add__',\n",
              " '__class__',\n",
              " '__contains__',\n",
              " '__delattr__',\n",
              " '__dir__',\n",
              " '__doc__',\n",
              " '__eq__',\n",
              " '__format__',\n",
              " '__ge__',\n",
              " '__getattribute__',\n",
              " '__getitem__',\n",
              " '__getnewargs__',\n",
              " '__gt__',\n",
              " '__hash__',\n",
              " '__init__',\n",
              " '__init_subclass__',\n",
              " '__iter__',\n",
              " '__le__',\n",
              " '__len__',\n",
              " '__lt__',\n",
              " '__mod__',\n",
              " '__mul__',\n",
              " '__ne__',\n",
              " '__new__',\n",
              " '__reduce__',\n",
              " '__reduce_ex__',\n",
              " '__repr__',\n",
              " '__rmod__',\n",
              " '__rmul__',\n",
              " '__setattr__',\n",
              " '__sizeof__',\n",
              " '__str__',\n",
              " '__subclasshook__',\n",
              " 'capitalize',\n",
              " 'casefold',\n",
              " 'center',\n",
              " 'count',\n",
              " 'encode',\n",
              " 'endswith',\n",
              " 'expandtabs',\n",
              " 'find',\n",
              " 'format',\n",
              " 'format_map',\n",
              " 'index',\n",
              " 'isalnum',\n",
              " 'isalpha',\n",
              " 'isascii',\n",
              " 'isdecimal',\n",
              " 'isdigit',\n",
              " 'isidentifier',\n",
              " 'islower',\n",
              " 'isnumeric',\n",
              " 'isprintable',\n",
              " 'isspace',\n",
              " 'istitle',\n",
              " 'isupper',\n",
              " 'join',\n",
              " 'ljust',\n",
              " 'lower',\n",
              " 'lstrip',\n",
              " 'maketrans',\n",
              " 'partition',\n",
              " 'removeprefix',\n",
              " 'removesuffix',\n",
              " 'replace',\n",
              " 'rfind',\n",
              " 'rindex',\n",
              " 'rjust',\n",
              " 'rpartition',\n",
              " 'rsplit',\n",
              " 'rstrip',\n",
              " 'split',\n",
              " 'splitlines',\n",
              " 'startswith',\n",
              " 'strip',\n",
              " 'swapcase',\n",
              " 'title',\n",
              " 'translate',\n",
              " 'upper',\n",
              " 'zfill']"
            ]
          },
          "metadata": {},
          "execution_count": 24
        }
      ]
    }
  ]
}